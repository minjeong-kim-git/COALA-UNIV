{
 "cells": [
  {
   "cell_type": "code",
   "execution_count": 1,
   "metadata": {},
   "outputs": [
    {
     "name": "stdout",
     "output_type": "stream",
     "text": [
      "Hello World!\n"
     ]
    }
   ],
   "source": [
    "print('Hello World!')"
   ]
  },
  {
   "cell_type": "markdown",
   "metadata": {},
   "source": [
    "# 큰 제목\n",
    "## 작은 제목\n",
    "\n",
    "일반 텍스트\n",
    "\n",
    "*기울여주세요~*\n",
    "\n",
    "**진하게**\n",
    "안녕하세요? 저는 **김민정**입니다.\n",
    "\n",
    "`파이썬` `데이터` ㅎㅎ `사이언스`"
   ]
  },
  {
   "cell_type": "markdown",
   "metadata": {},
   "source": [
    "# 순서 없는 리스트\n",
    "\n",
    "- 체리\n",
    "  - 빨간 체리\n",
    "    - 많이 빨간 체리\n",
    "  - 검은 체리\n",
    "- 파인애플\n",
    "- 청포도\n",
    "- 오렌지\n",
    "\n",
    "# 순서 있는 리스트\n",
    "\n",
    "1. 박지성\n",
    "  1. 네덜란드\n",
    "  2. 영국\n",
    "2. 이청용\n",
    "3. 기성용"
   ]
  },
  {
   "cell_type": "markdown",
   "metadata": {},
   "source": [
    "# 이미지와 링크 삽입하기\n",
    "\n",
    "---\n",
    "\n",
    "## 이미지\n",
    "![박지성입니다](https://newsimg.hankookilbo.com/2014/07/28/201407281931795779_1.jpg)\n",
    "\n",
    "## 링크\n",
    "[링크텍스트](https://coalastudy.com)"
   ]
  },
  {
   "cell_type": "markdown",
   "metadata": {},
   "source": [
    "## 코드 넣기\n",
    "\n",
    "코드입니다.\n",
    "```python\n",
    "print('Hello World!')\n",
    "```\n",
    "실행되지 않습니다.\n",
    "\n",
    "## 인용구\n",
    "안녕하세요\n",
    ">저는  \n",
    ">박지성  \n",
    ">입니다.  "
   ]
  },
  {
   "cell_type": "markdown",
   "metadata": {},
   "source": [
    "# 표 만들어 볼게요\n",
    "\n",
    "이름|전화번호|이메일\n",
    "-|-|-\n",
    "A|010|abc.com\n",
    "B|070|b.com"
   ]
  },
  {
   "cell_type": "code",
   "execution_count": 2,
   "metadata": {},
   "outputs": [],
   "source": [
    "import pandas as pd\n",
    "import numpy as np"
   ]
  },
  {
   "cell_type": "markdown",
   "metadata": {},
   "source": [
    "# 마크다운 연습기\n",
    "\n",
    "--------\n",
    "\n",
    "마크다운을 사용하면서 주피터 노트북과 친해져보겠습니다.\n",
    "이 링크를 누르면 [코알라](https://coalastudy.com)로 이동하세요.\n",
    "\n",
    "여기서부터는 다른 문단입니다.\n",
    "\n",
    "-----------\n",
    "\n",
    "## 지금까지 배운 내용\n",
    "\n",
    "마크다운으로 배운 내용\n",
    "\n",
    "  1. 큰 제목 넣기\n",
    "  2. 리스트 넣기\n",
    "  3. 표 넣기\n",
    "  4. 기타\n",
    "  \n",
    "----------\n",
    "\n",
    "## 정리\n",
    "\n",
    "문법|사용법\n",
    "-|-\n",
    "큰 제목|#을 사용\n",
    "리스트|- 혹은 1. 사용\n",
    "\n",
    "--------------\n",
    "\n",
    "## 마무리\n",
    "\n",
    "파이썬 코드로 Hello World!를 만들면서 끝내요.\n",
    "\n",
    "```python\n",
    "print('Hello World!')\n",
    "```"
   ]
  },
  {
   "cell_type": "code",
   "execution_count": 3,
   "metadata": {},
   "outputs": [
    {
     "name": "stdout",
     "output_type": "stream",
     "text": [
      "Hello World!\n"
     ]
    }
   ],
   "source": [
    "print('Hello World!')"
   ]
  },
  {
   "cell_type": "markdown",
   "metadata": {},
   "source": [
    "---------------\n",
    "\n",
    "## 제작자\n",
    "\n",
    "**제작자** 김민정\n",
    "\n",
    "![박지성입니다.](https://newsimg.hankookilbo.com/2014/07/28/201407281931795779_1.jpg)"
   ]
  },
  {
   "cell_type": "code",
   "execution_count": null,
   "metadata": {},
   "outputs": [],
   "source": []
  }
 ],
 "metadata": {
  "kernelspec": {
   "display_name": "Python 3",
   "language": "python",
   "name": "python3"
  },
  "language_info": {
   "codemirror_mode": {
    "name": "ipython",
    "version": 3
   },
   "file_extension": ".py",
   "mimetype": "text/x-python",
   "name": "python",
   "nbconvert_exporter": "python",
   "pygments_lexer": "ipython3",
   "version": "3.7.6"
  }
 },
 "nbformat": 4,
 "nbformat_minor": 4
}
