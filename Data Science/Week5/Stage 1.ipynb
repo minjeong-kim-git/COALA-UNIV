{
 "cells": [
  {
   "cell_type": "code",
   "execution_count": 2,
   "metadata": {},
   "outputs": [],
   "source": [
    "data = [(1, 2), (2, 2.5), (3, 2),\n",
    "       (3, 3), (4, 3), (5, 5),\n",
    "       (6, 2), (7, 4), (8, 5)]"
   ]
  },
  {
   "cell_type": "code",
   "execution_count": 6,
   "metadata": {},
   "outputs": [
    {
     "name": "stdout",
     "output_type": "stream",
     "text": [
      "9.75\n"
     ]
    }
   ],
   "source": [
    "a = 0.5\n",
    "b = 0.5\n",
    "\n",
    "sums = 0\n",
    "for (x, y) in data:\n",
    "    predict = a * x + b\n",
    "    sums = sums + (y - predict) * (y - predict)\n",
    "    \n",
    "print(sums)"
   ]
  },
  {
   "cell_type": "markdown",
   "metadata": {},
   "source": [
    "# 자율 1"
   ]
  },
  {
   "cell_type": "code",
   "execution_count": null,
   "metadata": {},
   "outputs": [],
   "source": [
    "import numpy as np\n",
    "\n",
    "# 수많은 경우 중 최소 값의 경우를 저장하기 위한 변수\n",
    "min_a = 0\n",
    "min_b = 0\n",
    "min_sums = 99999999\n",
    "\n",
    "for a in np.arange(0, 5, 0.01):\n",
    "    for b in np.arange(0, 5, 0.01):\n",
    "        \n",
    "        # 현재 a, b의 오차제곱의 합을 구함\n",
    "        sums = 0\n",
    "        for (x, y) in data:\n",
    "            predict = a * x + b\n",
    "            sums +=  (y - predict) * (y - predict)\n",
    "            \n",
    "        #지금 구한 오차제곱의 합이 최소값보다 작으면 저장\n",
    "        if sums < min_sums:\n",
    "            min_a = a\n",
    "            min_b = b\n",
    "            min_sums = sums\n",
    "            \n",
    "# 앞서 저장했던 최소값 상태를 표시\n",
    "print(min_a, min_b, min_sums)"
   ]
  },
  {
   "cell_type": "code",
   "execution_count": null,
   "metadata": {},
   "outputs": [],
   "source": []
  }
 ],
 "metadata": {
  "kernelspec": {
   "display_name": "Python 3",
   "language": "python",
   "name": "python3"
  },
  "language_info": {
   "codemirror_mode": {
    "name": "ipython",
    "version": 3
   },
   "file_extension": ".py",
   "mimetype": "text/x-python",
   "name": "python",
   "nbconvert_exporter": "python",
   "pygments_lexer": "ipython3",
   "version": "3.7.6"
  }
 },
 "nbformat": 4,
 "nbformat_minor": 4
}
