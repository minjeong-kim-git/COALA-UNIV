{
 "cells": [
  {
   "cell_type": "code",
   "execution_count": 8,
   "metadata": {},
   "outputs": [
    {
     "name": "stdout",
     "output_type": "stream",
     "text": [
      "1단계: 전체 출력하기\n",
      "[{'name': '박지성', 'phone': '01040281234'}, {'name': '이청용', 'phone': '01012344321'}, {'name': '손흥민', 'phone': '01007070202'}]\n",
      "2단계: 이청용 정보만 출력\n",
      "{'name': '이청용', 'phone': '01012344321'}\n"
     ]
    }
   ],
   "source": [
    "phonebook = [\n",
    "    {\n",
    "        'name': '박지성',\n",
    "        'phone': '01040281234'\n",
    "    },{\n",
    "        'name': '이청용',\n",
    "        'phone': '01012344321'\n",
    "    },{\n",
    "        'name': '손흥민',\n",
    "        'phone': '01007070202'\n",
    "    }\n",
    "]\n",
    "\n",
    "# 1단계\n",
    "print(\"1단계: 전체 출력하기\")\n",
    "print(phonebook)\n",
    "\n",
    "# 2단계\n",
    "print(\"2단계: 이청용 정보만 출력\")\n",
    "print(phonebook[1])"
   ]
  },
  {
   "cell_type": "code",
   "execution_count": null,
   "metadata": {},
   "outputs": [],
   "source": [
    "1. phonebook은 어떤 자료형 일까요?  [ 리스트 ] ex. 숫자형, 문자형, 리스트, 딕셔너리, …\n",
    "2. phonebook 안에 넣을 수 있는 자료형 중 3가지만 적어주세요.  [ 숫자형 ] [ 딕셔너리 ] [ 문자형 ] (무수히 많음)\n",
    "3. phonebook의 첫번째 값만 출력하려면 어떤 구문이 필요할까요?  [ phonebook[0] ]"
   ]
  }
 ],
 "metadata": {
  "kernelspec": {
   "display_name": "Python 3",
   "language": "python",
   "name": "python3"
  },
  "language_info": {
   "codemirror_mode": {
    "name": "ipython",
    "version": 3
   },
   "file_extension": ".py",
   "mimetype": "text/x-python",
   "name": "python",
   "nbconvert_exporter": "python",
   "pygments_lexer": "ipython3",
   "version": "3.7.6"
  }
 },
 "nbformat": 4,
 "nbformat_minor": 4
}
