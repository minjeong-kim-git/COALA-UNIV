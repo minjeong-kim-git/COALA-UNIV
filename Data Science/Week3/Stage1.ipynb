{
 "cells": [
  {
   "cell_type": "code",
   "execution_count": 13,
   "metadata": {},
   "outputs": [],
   "source": [
    "data = {\n",
    "    'name': ['고양이', '펭귄', '닭', '타조', '참새'],\n",
    "    'wing': [False, True, True, True, True],\n",
    "    'weight': ['light', 'heavy', 'light', 'heavy', 'light'],\n",
    "    'density': ['low', 'high', 'high', 'high', 'low'],\n",
    "    'fly': [False, False, False, False, True]\n",
    "}"
   ]
  },
  {
   "cell_type": "code",
   "execution_count": 14,
   "metadata": {},
   "outputs": [
    {
     "name": "stdout",
     "output_type": "stream",
     "text": [
      "{'name': ['고양이', '펭귄', '닭', '타조', '참새'], 'wing': [False, True, True, True, True], 'weight': ['light', 'heavy', 'light', 'heavy', 'light'], 'density': ['low', 'high', 'high', 'high', 'low'], 'fly': [False, False, False, False, True]}\n"
     ]
    }
   ],
   "source": [
    "print(data)"
   ]
  },
  {
   "cell_type": "code",
   "execution_count": 16,
   "metadata": {},
   "outputs": [
    {
     "name": "stdout",
     "output_type": "stream",
     "text": [
      "고양이는 날개가 있을까? False\n",
      "닭은 날개가 있을까? True\n"
     ]
    }
   ],
   "source": [
    "print('고양이는 날개가 있을까?', data['wing'][0])\n",
    "print('닭은 날개가 있을까?', data['wing'][2])"
   ]
  },
  {
   "cell_type": "code",
   "execution_count": 18,
   "metadata": {},
   "outputs": [
    {
     "name": "stdout",
     "output_type": "stream",
     "text": [
      "True heavy high False\n"
     ]
    }
   ],
   "source": [
    "print(data['wing'][1],\n",
    "     data['weight'][1],\n",
    "     data['density'][1],\n",
    "     data['fly'][1])"
   ]
  },
  {
   "cell_type": "code",
   "execution_count": 20,
   "metadata": {},
   "outputs": [
    {
     "name": "stdout",
     "output_type": "stream",
     "text": [
      "True light low True\n"
     ]
    }
   ],
   "source": [
    "bird_no = 4\n",
    "print(data['wing'][bird_no],\n",
    "     data['weight'][bird_no],\n",
    "     data['density'][bird_no],\n",
    "     data['fly'][bird_no])"
   ]
  },
  {
   "cell_type": "code",
   "execution_count": 25,
   "metadata": {},
   "outputs": [
    {
     "name": "stdout",
     "output_type": "stream",
     "text": [
      "참새 : 날 수 있는지 확인합니다.\n",
      "날 수 있다!\n"
     ]
    }
   ],
   "source": [
    "target_index = 4\n",
    "\n",
    "print(data['name'][target_index], ': 날 수 있는지 확인합니다.')\n",
    "\n",
    "# 날개 / 몸무게 / 골밀도\n",
    "\n",
    "# 날개 유무\n",
    "if data['wing'][target_index] == True:\n",
    "    if data['weight'][target_index] == 'heavy':\n",
    "        # 몸무게가 무겁다\n",
    "        print('날 수 없다')\n",
    "    else:\n",
    "        # 몸무게가 가볍다\n",
    "        if data['density'][target_index] == 'high':\n",
    "            print('날 수 없다')\n",
    "        else:\n",
    "            print('날 수 있다!')\n",
    "        \n",
    "else:\n",
    "    # 날개가 없다.\n",
    "    print('날 수 없다')"
   ]
  },
  {
   "cell_type": "code",
   "execution_count": null,
   "metadata": {},
   "outputs": [],
   "source": []
  }
 ],
 "metadata": {
  "kernelspec": {
   "display_name": "Python 3",
   "language": "python",
   "name": "python3"
  },
  "language_info": {
   "codemirror_mode": {
    "name": "ipython",
    "version": 3
   },
   "file_extension": ".py",
   "mimetype": "text/x-python",
   "name": "python",
   "nbconvert_exporter": "python",
   "pygments_lexer": "ipython3",
   "version": "3.7.6"
  }
 },
 "nbformat": 4,
 "nbformat_minor": 4
}
